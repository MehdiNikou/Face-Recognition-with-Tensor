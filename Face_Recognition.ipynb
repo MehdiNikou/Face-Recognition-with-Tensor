{
 "cells": [
  {
   "cell_type": "code",
   "execution_count": 65,
   "metadata": {},
   "outputs": [],
   "source": [
    "import numpy as np\n",
    "import os\n",
    "import glob\n",
    "import matplotlib.image as mpimg"
   ]
  },
  {
   "cell_type": "markdown",
   "metadata": {},
   "source": [
    "### Tensor Functions (Fold/Unfold/Multi/HOSVD)"
   ]
  },
  {
   "cell_type": "code",
   "execution_count": 66,
   "metadata": {},
   "outputs": [],
   "source": [
    "import numpy as np\n",
    "\n",
    "# unfold function\n",
    "def unfold(tensor, mod):\n",
    "\n",
    "    if (mod == 1):\n",
    "        unfolded_tensor = tensor[:, 0, :]\n",
    "        for i in range(tensor.shape[1]-1):\n",
    "            unfolded_tensor = np.concatenate((unfolded_tensor, tensor[:, i+1, :]), axis=1)\n",
    "\n",
    "    elif (mod == 2):\n",
    "        unfolded_tensor = tensor[:, :, 0].T\n",
    "        for i in range(tensor.shape[2]-1):\n",
    "            unfolded_tensor = np.concatenate((unfolded_tensor, tensor[:, :, i+1].T), axis=1)\n",
    "\n",
    "    else:\n",
    "        unfolded_tensor = tensor[0, :, :].T\n",
    "        for i in range(tensor.shape[0]-1):\n",
    "            unfolded_tensor = np.concatenate((unfolded_tensor, tensor[i+1, :, :].T), axis=1)\n",
    "\n",
    "    return unfolded_tensor"
   ]
  },
  {
   "cell_type": "code",
   "execution_count": 67,
   "metadata": {},
   "outputs": [],
   "source": [
    "# fold function\n",
    "def fold(matrix, tensor_shape, mode):\n",
    "    if mode == 1:\n",
    "        return matrix.reshape(tensor_shape)\n",
    "    elif mode == 2:\n",
    "        return matrix.reshape(tensor_shape[1], tensor_shape[0], tensor_shape[2]).transpose(1, 0, 2)\n",
    "    elif mode == 3:\n",
    "        return matrix.reshape(tensor_shape[2], tensor_shape[0], tensor_shape[1]).transpose(1, 2, 0)"
   ]
  },
  {
   "cell_type": "code",
   "execution_count": 68,
   "metadata": {},
   "outputs": [],
   "source": [
    "def multiplication(tensor, matrix, mod):\n",
    "    if mod == 1:\n",
    "        unfolded_matrix = unfold(tensor, 1)\n",
    "        multiplied_matrix = np.dot(matrix, unfolded_matrix)\n",
    "        tensor_resized = np.resize(tensor, (matrix.shape[0], tensor.shape[1], tensor.shape[2]))\n",
    "        folded_matrix = fold(multiplied_matrix, tensor_resized.shape, 1)\n",
    "    elif mod == 2:\n",
    "        unfolded_matrix = unfold(tensor, 2)\n",
    "        multiplied_matrix = np.dot(matrix, unfolded_matrix)\n",
    "        tensor_resized = np.resize(tensor, (tensor.shape[0], matrix.shape[0], tensor.shape[2]))\n",
    "        folded_matrix = fold(multiplied_matrix, tensor_resized.shape, 2)\n",
    "    elif mod == 3:\n",
    "        unfolded_matrix = unfold(tensor, 3)\n",
    "        multiplied_matrix = np.dot(matrix, unfolded_matrix)\n",
    "        tensor_resized = np.resize(tensor, (tensor.shape[0], tensor.shape[1], matrix.shape[0]))\n",
    "        folded_matrix = fold(multiplied_matrix, tensor_resized.shape, 3)\n",
    "    return folded_matrix"
   ]
  },
  {
   "cell_type": "code",
   "execution_count": 69,
   "metadata": {},
   "outputs": [],
   "source": [
    "## HOSVD function\n",
    "def HOSVD(A):\n",
    "\n",
    "    U1, s1, v = np.linalg.svd(unfold(A,1), full_matrices=False)\n",
    "    U2, s2, v = np.linalg.svd(unfold(A,2), full_matrices=False)\n",
    "    U3, s3, v = np.linalg.svd(unfold(A,3), full_matrices=False)\n",
    "\n",
    "    S = multiplication(multiplication(multiplication(A,U1.T,1), U2.T,2), U3.T,3)\n",
    "    \n",
    "    return S, U1, U2, U3"
   ]
  },
  {
   "cell_type": "code",
   "execution_count": 70,
   "metadata": {},
   "outputs": [],
   "source": [
    "# Get unique of lists\n",
    "def unique(list):\n",
    "    unique_list = []\n",
    "    for i in list:\n",
    "        if i not in unique_list:\n",
    "            unique_list.append(i)\n",
    "    return unique_list"
   ]
  },
  {
   "cell_type": "markdown",
   "metadata": {},
   "source": [
    "\n",
    "Read Train images and create Tensor A."
   ]
  },
  {
   "cell_type": "code",
   "execution_count": 71,
   "metadata": {},
   "outputs": [
    {
     "name": "stdout",
     "output_type": "stream",
     "text": [
      "identity : ['subject01', 'subject02', 'subject03', 'subject04', 'subject05', 'subject06', 'subject07', 'subject08', 'subject09', 'subject10', 'subject11', 'subject12', 'subject13', 'subject14']\n",
      "expretion : ['centerlight', 'happy', 'leftlight', 'noglasses', 'normal', 'rightlight', 'sad', 'sleepy', 'surprised', 'wink']\n",
      "pixel of images : 77760\n"
     ]
    }
   ],
   "source": [
    "images_list=[]\n",
    "for img in glob.glob(\"D:/Projects/train/*.gif\"):\n",
    "    images=mpimg.imread(img)\n",
    "    images_list.append(images)\n",
    "## Vector of images\n",
    "for imgM in images_list:\n",
    "    v = imgM.flatten(order=\"f\").reshape(-1,1)\n",
    "\n",
    "## List of images Names (labels)\n",
    "img=os.listdir(\"D:/Projects//train\")\n",
    "img_label=[]\n",
    "for i in range(len(img)):\n",
    "    img_label.append(img[i].split('.'))\n",
    "## Genarete list of index and pix of images\n",
    "id_train=[]\n",
    "exp_train=[]\n",
    "for i in range(len(img_label)):\n",
    "    id_train.append(img_label[i][0])\n",
    "    exp_train.append(img_label[i][1])\n",
    "\n",
    "print('identity :',unique(id_train))\n",
    "print('expretion :',unique(exp_train))\n",
    "print('pixel of images :',len(v))"
   ]
  },
  {
   "cell_type": "code",
   "execution_count": 72,
   "metadata": {},
   "outputs": [],
   "source": [
    "i=len(v)\n",
    "e=(len(unique(exp_train))) ## expresion size\n",
    "p=len(unique(id_train)) ## number of persons\n",
    "A=np.zeros((i,e,p))\n",
    "counter = 0\n",
    "for r in range(p):\n",
    "    for q in range(e):\n",
    "        A[:,q,r]=np.squeeze(images_list[counter].flatten(order=\"f\").reshape(-1,1))\n",
    "        counter +=1"
   ]
  },
  {
   "cell_type": "code",
   "execution_count": 73,
   "metadata": {},
   "outputs": [
    {
     "data": {
      "text/plain": [
       "(77760, 10, 14)"
      ]
     },
     "execution_count": 73,
     "metadata": {},
     "output_type": "execute_result"
    }
   ],
   "source": [
    "A.shape"
   ]
  },
  {
   "cell_type": "code",
   "execution_count": 74,
   "metadata": {},
   "outputs": [],
   "source": [
    "## HOSVD for tensor A\n",
    "S, F, G, H = HOSVD(A)"
   ]
  },
  {
   "cell_type": "markdown",
   "metadata": {},
   "source": [
    "\n",
    "Read Test images and apply face recognition for test images Z "
   ]
  },
  {
   "cell_type": "code",
   "execution_count": 75,
   "metadata": {},
   "outputs": [
    {
     "name": "stdout",
     "output_type": "stream",
     "text": [
      "identity test : ['subject01', 'subject02', 'subject03', 'subject04', 'subject05', 'subject06', 'subject07', 'subject08', 'subject09', 'subject10', 'subject11', 'subject12', 'subject13', 'subject14', 'subject15']\n",
      "expretion test : ['exist', '1', '10', '11', '2', '3', '4', '5', '6', '7', '8', '9']\n",
      "pixel of images test : 77760\n"
     ]
    }
   ],
   "source": [
    "images_list_test=[]\n",
    "for imgT in glob.glob(\"D:/Projects/test/*.gif\"):\n",
    "  imagesT=mpimg.imread(imgT)\n",
    "  images_list_test.append(imagesT)\n",
    "## Vector of images\n",
    "for imgMT in images_list: \n",
    "  vT=imgMT.flatten(order=\"f\").reshape(-1,1)\n",
    "\n",
    "## List of images Names (labels)\n",
    "imgT=os.listdir(\"D:/Projects/test\")\n",
    "test_label=[]\n",
    "for i in range(len(imgT)):\n",
    "      test_label.append(imgT[i].split('.'))\n",
    "## Genarete list of index and pix of images\n",
    "id_test=[]\n",
    "exp_test=[]\n",
    "for i in range(len(test_label)):\n",
    "    id_test.append(test_label[i][0])\n",
    "    exp_test.append(test_label[i][1])\n",
    "\n",
    "print('identity test :',unique(id_test))\n",
    "print('expretion test :',unique(exp_test))\n",
    "print('pixel of images test :',len(vT))"
   ]
  },
  {
   "cell_type": "code",
   "execution_count": 87,
   "metadata": {},
   "outputs": [],
   "source": [
    "# Define function for Test images algorithm\n",
    "def TestImage(z,B,id): \n",
    "    predict = []\n",
    "    norms=[]\n",
    "    tol = 0.5\n",
    "    ## Step 1\n",
    "    Qe = []\n",
    "    Re = []\n",
    "    for e in range(B.shape[1]):\n",
    "        Q, R = np.linalg.qr(B[:,e,:], mode='reduced')\n",
    "        Qe.append(Q)\n",
    "        Re.append(R)  \n",
    "    ## Step 2\n",
    "    Z_hat = np.dot(F.T, z) \n",
    "    ## Step 3\n",
    "    for e in range(B.shape[1]):\n",
    "        alfa = np.linalg.inv(Re[e]) @ (Qe[e]).T @ Z_hat\n",
    "        for p in range(B.shape[2]):\n",
    "            norm = np.linalg.norm(alfa[e]-H[:,p])\n",
    "            norms.append(norm)\n",
    "    ## Classify person \n",
    "    for k in range(len(norms)):\n",
    "        if norms[k] < tol:\n",
    "            predict.append(id[k])\n",
    "    return predict"
   ]
  },
  {
   "cell_type": "code",
   "execution_count": 88,
   "metadata": {},
   "outputs": [
    {
     "name": "stdout",
     "output_type": "stream",
     "text": [
      "Accuracy is: 96.0\n",
      "Number persons predicted correct: 24\n",
      "Number persons predicted false: 1\n"
     ]
    }
   ],
   "source": [
    "# Calculate for B in algolithm TestImage\n",
    "B = multiplication(S,G,2)\n",
    "pred=[]\n",
    "valid=0\n",
    "for k in range(len(images_list_test)): \n",
    "    z = images_list_test[k].flatten(order=\"f\").reshape(-1,1)\n",
    "    id=id_train\n",
    "    pred.append(TestImage(z,B,id))\n",
    "    \n",
    "## Calculate Accuracy of Algorithm\n",
    "    for i in range(len(pred[k])):\n",
    "        if pred[k][i]==id_test[i]:\n",
    "            valid= valid + 1 \n",
    "\n",
    "## Print Results\n",
    "print('Accuracy is:',(valid/len(id_test))*100)\n",
    "print('Number persons predicted correct:', valid)\n",
    "print('Number persons predicted false:', len(images_list_test)- valid)"
   ]
  }
 ],
 "metadata": {
  "kernelspec": {
   "display_name": "Python 3",
   "language": "python",
   "name": "python3"
  },
  "language_info": {
   "codemirror_mode": {
    "name": "ipython",
    "version": 3
   },
   "file_extension": ".py",
   "mimetype": "text/x-python",
   "name": "python",
   "nbconvert_exporter": "python",
   "pygments_lexer": "ipython3",
   "version": "3.11.5"
  }
 },
 "nbformat": 4,
 "nbformat_minor": 2
}
